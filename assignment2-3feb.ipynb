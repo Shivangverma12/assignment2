{
 "cells": [
  {
   "cell_type": "code",
   "execution_count": 1,
   "id": "105ebc8b-04da-4a09-a125-4321e45c9f5e",
   "metadata": {},
   "outputs": [],
   "source": [
    "\"\"\"QUES 1:- ANSWER WITH PROGRAM.\n",
    "\n",
    "-> 'Def' keyword is used to create a function.\n",
    "Program for creating function to return a list of odd numbers in the range 1 to 25.\"\"\"\n",
    "\n",
    "def robot():\n",
    "    \"\"\" The function is used to find the oddd number in list at the range that U given.\"\"\"\n",
    "    return[num for num in range(1,26) if num % 2!=0]\n"
   ]
  },
  {
   "cell_type": "code",
   "execution_count": 2,
   "id": "3d92a9b0-08f8-4959-b0a1-19904bb58160",
   "metadata": {},
   "outputs": [
    {
     "data": {
      "text/plain": [
       "[1, 3, 5, 7, 9, 11, 13, 15, 17, 19, 21, 23, 25]"
      ]
     },
     "execution_count": 2,
     "metadata": {},
     "output_type": "execute_result"
    }
   ],
   "source": [
    "robot()"
   ]
  },
  {
   "cell_type": "code",
   "execution_count": 14,
   "id": "b1c626ce-010c-45b7-b129-07429714e589",
   "metadata": {},
   "outputs": [],
   "source": [
    "\"\"\"QUES 2:- ANSWER WITH PROGRAM\n",
    "\n",
    "-> *args- It allows us to pass a variable number of non-keyword arguments to a Python function.\n",
    "  Here is a function of *args.\"\"\"\n",
    "\n",
    "def my_function(*args):\n",
    "    \"\"\"this function is used to create a tuple of user input\"\"\"\n",
    "    return args"
   ]
  },
  {
   "cell_type": "code",
   "execution_count": 15,
   "id": "d55a48b5-a0c6-461c-99a7-07ed95396424",
   "metadata": {},
   "outputs": [
    {
     "data": {
      "text/plain": [
       "(1, 5, 6, 3.58, 'shiv')"
      ]
     },
     "execution_count": 15,
     "metadata": {},
     "output_type": "execute_result"
    }
   ],
   "source": [
    "my_function(1,5,6,3.58,\"shiv\")"
   ]
  },
  {
   "cell_type": "code",
   "execution_count": 16,
   "id": "175a514e-3595-4535-b924-334a27ca08f5",
   "metadata": {},
   "outputs": [],
   "source": [
    "\"\"\"QUES 2:- ANSWER OF **args WITH PROGRAM\n",
    "\n",
    "-> **args- It allows us to pass a variable number of  keyword arguments to a Python function.\n",
    "  here is a program of **args.\"\"\"\n",
    "\n",
    "def my_function1(**kwargs):\n",
    "    \"\"\"this function is used to create a key value of user input\"\"\"\n",
    "    return kwargs"
   ]
  },
  {
   "cell_type": "code",
   "execution_count": 17,
   "id": "5deed846-b1a5-489d-9f50-d7e52d79712a",
   "metadata": {},
   "outputs": [
    {
     "data": {
      "text/plain": [
       "{'a': [1, 5, 3.6, 'shivang'], 'b': 'shiv', 'c': 5.45}"
      ]
     },
     "execution_count": 17,
     "metadata": {},
     "output_type": "execute_result"
    }
   ],
   "source": [
    "my_function1(a = [1,5,3.6,\"shivang\"],b = \"shiv\",c =5.45)"
   ]
  },
  {
   "cell_type": "code",
   "execution_count": 3,
   "id": "cb353c96-8330-45a1-b807-3cde21abf9d0",
   "metadata": {},
   "outputs": [
    {
     "name": "stdout",
     "output_type": "stream",
     "text": [
      "2\n",
      "4\n",
      "6\n",
      "8\n",
      "10\n"
     ]
    }
   ],
   "source": [
    "\"\"\" QUES 3:- ANSWER WITH PROGRAM\n",
    "\n",
    "->In Python,an iterator is an obejct that allows us tp traverser through a collection of elements one at a time.\n",
    "we can use the 'iter()' method to initialize object, and the 'next()' method to iterate over the elements of the collection.\n",
    "\n",
    "So Here is a program \"\"\"\n",
    "\n",
    "l1=[2,4,6,8,10,12,14,16,18,20]\n",
    "# initialize an iterator objectusing the iter() method \n",
    "\n",
    "iterator = iter(l1)\n",
    "\n",
    "# itereate over the first five elements using next() method\n",
    "\n",
    "for a in range(5):\n",
    "    print(next(iterator))"
   ]
  },
  {
   "cell_type": "code",
   "execution_count": 5,
   "id": "9c5d9bf1-ca11-4eca-a47e-6fc629732c67",
   "metadata": {},
   "outputs": [],
   "source": [
    "\"\"\"OUES 4:- ANSWER WITH PROGRAM\n",
    "->Generator function - generator-function is defined like a normal function, but whenever it needs to generate a value.\n",
    "it does so with the yield keyword rather than return.If the body of a def contains yield, the function automatically becomes a generator function. \n",
    "\n",
    "->Use of Yield keyword- Yield keyword is used to create a generator function.\"\"\"\n",
    "\n",
    "def count(n):\n",
    "    while n<=10:\n",
    "        yield n\n",
    "        n=n+1\n",
    "        \n"
   ]
  },
  {
   "cell_type": "code",
   "execution_count": 7,
   "id": "c9ce4a5f-2fb2-49a6-9dbe-8ef3606bfe7a",
   "metadata": {},
   "outputs": [
    {
     "name": "stdout",
     "output_type": "stream",
     "text": [
      "1\n",
      "2\n",
      "3\n",
      "4\n",
      "5\n",
      "6\n",
      "7\n",
      "8\n",
      "9\n",
      "10\n"
     ]
    }
   ],
   "source": [
    "c = count(1)\n",
    "for i in c:\n",
    "    print(i)"
   ]
  },
  {
   "cell_type": "code",
   "execution_count": 14,
   "id": "282426ac-95a2-4d9e-a450-73b64f2a188a",
   "metadata": {},
   "outputs": [],
   "source": [
    "#QUES 5:- PROGRAM\n",
    "# Function that generate first 20 prime number under 1000\n",
    "def prime():\n",
    "    \"\"\"enter your range under 1000\"\"\" \n",
    "    yield 2\n",
    "    yield 3\n",
    "    n = 5\n",
    "    while n< 1000:\n",
    "        if all(n % i !=0 for i in range(3,int(n**0.5)+1,2)):\n",
    "            yield n\n",
    "        n = n+2\n",
    "        \n",
    "        "
   ]
  },
  {
   "cell_type": "code",
   "execution_count": 15,
   "id": "0c0514b5-525f-455a-a520-8230b873b20c",
   "metadata": {},
   "outputs": [
    {
     "name": "stdout",
     "output_type": "stream",
     "text": [
      "2\n",
      "3\n",
      "5\n",
      "7\n",
      "11\n",
      "13\n",
      "17\n",
      "19\n",
      "23\n",
      "29\n",
      "31\n",
      "37\n",
      "41\n",
      "43\n",
      "47\n",
      "53\n",
      "59\n",
      "61\n",
      "67\n",
      "71\n"
     ]
    }
   ],
   "source": [
    "generate = prime()\n",
    "for _ in range(20):\n",
    "    print(next(generate))"
   ]
  },
  {
   "cell_type": "code",
   "execution_count": 2,
   "id": "d82f7587-4fb5-41f3-91e0-e5b5ebe45649",
   "metadata": {},
   "outputs": [
    {
     "name": "stdout",
     "output_type": "stream",
     "text": [
      "0\n",
      "1\n",
      "1\n",
      "2\n",
      "3\n",
      "5\n",
      "8\n",
      "13\n",
      "21\n",
      "34\n"
     ]
    }
   ],
   "source": [
    "#QUES 6:- PROGRAM\n",
    "# A program to generate Fibonacci numbers using while loop\n",
    "a = 0\n",
    "b = 1\n",
    "count = 0\n",
    "\n",
    "while count < 10:\n",
    "    print(a)\n",
    "    c = a+b\n",
    "    a = b\n",
    "    b = c \n",
    "    count = count + 1"
   ]
  },
  {
   "cell_type": "code",
   "execution_count": 3,
   "id": "807efbce-4e06-4aca-bdb0-a3057d97427a",
   "metadata": {},
   "outputs": [
    {
     "name": "stdout",
     "output_type": "stream",
     "text": [
      "['p', 'w', 's', 'k', 'i', 'l', 'l', 's']\n"
     ]
    }
   ],
   "source": [
    "#QUES 7:- PROGRAM\n",
    "# A program for list comprehension \n",
    "string = \"pwskills\"\n",
    "\n",
    "list1=[char for char in string]\n",
    "\n",
    "print(list1)"
   ]
  },
  {
   "cell_type": "code",
   "execution_count": 2,
   "id": "165354e9-e985-4c14-996d-9a79853dc665",
   "metadata": {},
   "outputs": [
    {
     "name": "stdin",
     "output_type": "stream",
     "text": [
      " 131\n"
     ]
    },
    {
     "name": "stdout",
     "output_type": "stream",
     "text": [
      "131  is a palindrome number. \n"
     ]
    }
   ],
   "source": [
    "#QUES 8:- PROGRAM\n",
    "# A program for checking  palindrome number or not.\n",
    "\n",
    "num = int(input(\"enter the number according to your choice \"))\n",
    "reverse = 0\n",
    "num1 = num\n",
    "\n",
    "while num1 > 0 :\n",
    "    dig = num1 % 10\n",
    "    reverse = reverse * 10 + dig\n",
    "    \n",
    "    num1 = num1 // 10\n",
    "\n",
    "# Checking process\n",
    "if num == reverse:\n",
    "    print(num,\" is a palindrome number. \")\n",
    "else:\n",
    "    print(num,\" is not a palindrome number.\")"
   ]
  },
  {
   "cell_type": "code",
   "execution_count": 1,
   "id": "9edc5524-93ec-4648-a8cd-7eb9472dd31f",
   "metadata": {},
   "outputs": [
    {
     "name": "stdout",
     "output_type": "stream",
     "text": [
      "[1, 3, 5, 7, 9, 11, 13, 15, 17, 19, 21, 23, 25, 27, 29, 31, 33, 35, 37, 39, 41, 43, 45, 47, 49, 51, 53, 55, 57, 59, 61, 63, 65, 67, 69, 71, 73, 75, 77, 79, 81, 83, 85, 87, 89, 91, 93, 95, 97, 99]\n"
     ]
    }
   ],
   "source": [
    "#QUES 9:- PROGRAM\n",
    "# using a list comprehension to create a list \n",
    "number = [num for num in range(1,101)]\n",
    "# using a list comprehension  to filter out odd number\n",
    "odd_list =[num for num in number if num % 2 != 0]\n",
    "\n",
    "print(odd_list)\n"
   ]
  },
  {
   "cell_type": "code",
   "execution_count": null,
   "id": "0ef6f3a8-222e-4464-a062-add149050091",
   "metadata": {},
   "outputs": [],
   "source": []
  }
 ],
 "metadata": {
  "kernelspec": {
   "display_name": "Python 3 (ipykernel)",
   "language": "python",
   "name": "python3"
  },
  "language_info": {
   "codemirror_mode": {
    "name": "ipython",
    "version": 3
   },
   "file_extension": ".py",
   "mimetype": "text/x-python",
   "name": "python",
   "nbconvert_exporter": "python",
   "pygments_lexer": "ipython3",
   "version": "3.10.8"
  }
 },
 "nbformat": 4,
 "nbformat_minor": 5
}
